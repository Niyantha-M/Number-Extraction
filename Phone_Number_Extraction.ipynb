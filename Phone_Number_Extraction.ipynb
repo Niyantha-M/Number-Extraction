{
  "nbformat": 4,
  "nbformat_minor": 0,
  "metadata": {
    "colab": {
      "provenance": []
    },
    "kernelspec": {
      "name": "python3",
      "display_name": "Python 3"
    },
    "language_info": {
      "name": "python"
    },
    "gpuClass": "standard",
    "accelerator": "GPU"
  },
  "cells": [
    {
      "cell_type": "code",
      "source": [
        "!pip install keras_ocr\n",
        "!pip install easyocr\n",
        "!sudo apt install tesseract-ocr\n",
        "!pip install pytesseract"
      ],
      "metadata": {
        "id": "1fCjsXKmzTeL"
      },
      "execution_count": null,
      "outputs": []
    },
    {
      "cell_type": "code",
      "source": [],
      "metadata": {
        "id": "2l5YbMgeJVri"
      },
      "execution_count": 1,
      "outputs": []
    },
    {
      "cell_type": "code",
      "source": [
        "from google.colab import drive\n",
        "drive.mount('/content/drive/', force_remount=True)"
      ],
      "metadata": {
        "id": "CYzwNJufzmrr",
        "colab": {
          "base_uri": "https://localhost:8080/"
        },
        "outputId": "b25f4e15-58b6-4a4f-dd9d-3d2a4453c32d"
      },
      "execution_count": 2,
      "outputs": [
        {
          "output_type": "stream",
          "name": "stdout",
          "text": [
            "Mounted at /content/drive/\n"
          ]
        }
      ]
    },
    {
      "cell_type": "code",
      "source": [
        "!unzip '/content/drive/MyDrive/Number-Extraction/youtube_cc_videos.zip'\n",
        "\n"
      ],
      "metadata": {
        "id": "YcJzQ9zfE21O"
      },
      "execution_count": null,
      "outputs": []
    },
    {
      "cell_type": "code",
      "source": [
        "dataset_dir=\"/content/youtube_cc_videos/\""
      ],
      "metadata": {
        "id": "b9UCpZsvFHpD"
      },
      "execution_count": 24,
      "outputs": []
    },
    {
      "cell_type": "code",
      "source": [
        "#pattern=\"^[0-9]{10}$\"\n",
        "pattern='^\\s*(?:\\+?(\\d{1,3}))?[-. (]*(\\d{3})[-. )]*(\\d{3})[-. ]*(\\d{4})(?: *x(\\d+))?\\s*$'"
      ],
      "metadata": {
        "id": "t4eX2Ax2XhGs"
      },
      "execution_count": 3,
      "outputs": []
    },
    {
      "cell_type": "code",
      "execution_count": 25,
      "metadata": {
        "id": "fuAvrKi6uQx-"
      },
      "outputs": [],
      "source": [
        "import cv2\n",
        "import keras_ocr\n",
        "from easyocr import Reader\n",
        "import os\n",
        "\n",
        "import pytesseract\n",
        "from pytesseract import Output\n",
        "import re\n",
        "import time\n"
      ]
    },
    {
      "cell_type": "code",
      "source": [
        "images=os.listdir(dataset_dir)"
      ],
      "metadata": {
        "id": "vuU3LmoJFVn8"
      },
      "execution_count": 26,
      "outputs": []
    },
    {
      "cell_type": "code",
      "source": [
        "# def crop_image(im_path):\n",
        "#     pipeline = keras_ocr.pipeline.Pipeline()\n",
        "#     img = keras_ocr.tools.read(im_path)\n",
        "#     prediction_groups = pipeline.recognize([img])\n",
        "#     index = in_list('show', prediction_groups[0])\n",
        "#     print(index)\n",
        "#     text_coord = prediction_groups[0][index]\n",
        "#     y_bottom = int(text_coord[1][3][1])\n",
        "#     img = img[:y_bottom]\n",
        "#     cv2.imwrite('cropped.png', img)"
      ],
      "metadata": {
        "id": "X2aje9ADvqFs"
      },
      "execution_count": 27,
      "outputs": []
    },
    {
      "cell_type": "code",
      "source": [],
      "metadata": {
        "id": "QACUeHTsVWdL"
      },
      "execution_count": 27,
      "outputs": []
    },
    {
      "cell_type": "code",
      "source": [
        "pipeline = keras_ocr.pipeline.Pipeline()\n",
        "def kerasocr(pipeline,image):\n",
        "  img = keras_ocr.tools.read(dataset_dir+image)\n",
        "  prediction_groups = pipeline.recognize([img])\n",
        "  return prediction_groups\n",
        "\n",
        "reader = Reader(['en'])\n",
        "def easyocr(reader,image):\n",
        "  results = reader.readtext(dataset_dir+image)\n",
        "  return results\n",
        "\n",
        "def pytesseact(img):\n",
        "  image=cv2.imread(dataset_dir+img)\n",
        "  d = pytesseract.image_to_data(image, output_type=Output.DICT)\n",
        "  return d\n",
        "\n",
        "def get_ph_keras(result):\n",
        "  for i in result[0]:\n",
        "    if re.match(pattern, i[0]):\n",
        "      return i[0]\n",
        "\n",
        "def get_ph_easy(results):\n",
        "  for i in results:\n",
        "    if re.match(pattern,i[1]):\n",
        "      return i[1]\n",
        "    \n",
        "def get_ph_tess(d):\n",
        "  for text in range(len(d['text'])):\n",
        "    if re.match(pattern, d['text'][text]):\n",
        "      return d['text'][text]\n"
      ],
      "metadata": {
        "colab": {
          "base_uri": "https://localhost:8080/"
        },
        "id": "JeCN2oH9zdOh",
        "outputId": "6c29e9d3-d2b4-447e-b868-1fc55e14e457"
      },
      "execution_count": 28,
      "outputs": [
        {
          "output_type": "stream",
          "name": "stdout",
          "text": [
            "Looking for /root/.keras-ocr/craft_mlt_25k.h5\n",
            "Looking for /root/.keras-ocr/crnn_kurapan.h5\n"
          ]
        }
      ]
    },
    {
      "cell_type": "code",
      "source": [
        "#result =kerasocr(pipeline,images[1])"
      ],
      "metadata": {
        "id": "S6s2kQwg2AnP"
      },
      "execution_count": 29,
      "outputs": []
    },
    {
      "cell_type": "code",
      "source": [
        "# keras_ph=[]\n",
        "# easy_ph=[]\n",
        "# tess_ph=[]\n",
        "# for image in images:\n",
        "#   k_result=kerasocr(pipeline,image)\n",
        "#   easy_result=easyocr(reader,image)\n",
        "#   tess_result=pytesseact(image)\n",
        "#   keras_ph.append(get_ph_keras(k_result))\n",
        "#   easy_ph.append(get_ph_easy(easy_result))\n",
        "#   tess_ph.append(get_ph_tess(tess_result))\n",
        "\n",
        "\n",
        "\n"
      ],
      "metadata": {
        "id": "ez8LLMzvW264"
      },
      "execution_count": 30,
      "outputs": []
    },
    {
      "cell_type": "code",
      "source": [
        "# print(len(keras_ph),len(easy_ph),len(tess_ph))"
      ],
      "metadata": {
        "id": "DuXwjV9ZZkPG"
      },
      "execution_count": 31,
      "outputs": []
    },
    {
      "cell_type": "code",
      "source": [
        "#keras_ph.count(None)"
      ],
      "metadata": {
        "id": "0TQ6A2lbfigD"
      },
      "execution_count": 32,
      "outputs": []
    },
    {
      "cell_type": "code",
      "source": [
        "#keras_ph\n"
      ],
      "metadata": {
        "id": "8wWSIf4B2F5H"
      },
      "execution_count": 33,
      "outputs": []
    },
    {
      "cell_type": "code",
      "source": [
        "#easy_ph.count(None)"
      ],
      "metadata": {
        "id": "QtMRKrY9gPIL"
      },
      "execution_count": 34,
      "outputs": []
    },
    {
      "cell_type": "code",
      "source": [
        "#easy_ph"
      ],
      "metadata": {
        "id": "UTxGp7dw2LXC"
      },
      "execution_count": 35,
      "outputs": []
    },
    {
      "cell_type": "code",
      "source": [
        "#tess_ph.count(None)"
      ],
      "metadata": {
        "id": "7D_VbZK6gUgC"
      },
      "execution_count": 36,
      "outputs": []
    },
    {
      "cell_type": "code",
      "source": [
        "#tess_ph"
      ],
      "metadata": {
        "id": "2o4uwrxiY6PS"
      },
      "execution_count": 37,
      "outputs": []
    },
    {
      "cell_type": "code",
      "source": [
        "# start_time = time.time()\n",
        "# main()\n",
        "# print(\"--- %s seconds ---\" % (time.time() - start_time))"
      ],
      "metadata": {
        "id": "yIJR5RX92eFg"
      },
      "execution_count": 38,
      "outputs": []
    },
    {
      "cell_type": "code",
      "source": [
        "#Find execution time \n",
        "#Keras_ocr\n",
        "start_time = time.time()\n",
        "pipeline = keras_ocr.pipeline.Pipeline()\n",
        "keras_ph=[]\n",
        "for image in images:\n",
        "  k_result=kerasocr(pipeline,image)\n",
        "  keras_ph.append(get_ph_keras(k_result))\n",
        "print(\"--- %s seconds ---\\n\" % (time.time() - start_time))\n",
        "print(\"--- %s seconds ---\\n\" % ((time.time() - start_time)/50))\n",
        "print(keras_ph.count(None))"
      ],
      "metadata": {
        "colab": {
          "base_uri": "https://localhost:8080/"
        },
        "id": "ADv_m4bDHF3x",
        "outputId": "68baea10-a1e9-4117-9ff2-7b77ef24b5da"
      },
      "execution_count": 39,
      "outputs": [
        {
          "output_type": "stream",
          "name": "stdout",
          "text": [
            "Looking for /root/.keras-ocr/craft_mlt_25k.h5\n",
            "Looking for /root/.keras-ocr/crnn_kurapan.h5\n",
            "1/1 [==============================] - 0s 419ms/step\n",
            "6/6 [==============================] - 2s 61ms/step\n",
            "1/1 [==============================] - 0s 27ms/step\n",
            "6/6 [==============================] - 0s 60ms/step\n",
            "1/1 [==============================] - 0s 29ms/step\n",
            "5/5 [==============================] - 0s 62ms/step\n",
            "1/1 [==============================] - 0s 29ms/step\n",
            "5/5 [==============================] - 0s 63ms/step\n",
            "1/1 [==============================] - 0s 28ms/step\n",
            "8/8 [==============================] - 0s 58ms/step\n",
            "1/1 [==============================] - 0s 29ms/step\n",
            "5/5 [==============================] - 0s 61ms/step\n",
            "1/1 [==============================] - 0s 28ms/step\n",
            "9/9 [==============================] - 1s 55ms/step\n",
            "1/1 [==============================] - 0s 27ms/step\n",
            "5/5 [==============================] - 0s 60ms/step\n",
            "1/1 [==============================] - 0s 29ms/step\n",
            "7/7 [==============================] - 0s 59ms/step\n",
            "1/1 [==============================] - 0s 30ms/step\n",
            "7/7 [==============================] - 0s 61ms/step\n",
            "1/1 [==============================] - 0s 27ms/step\n",
            "19/19 [==============================] - 1s 60ms/step\n",
            "1/1 [==============================] - 0s 28ms/step\n",
            "8/8 [==============================] - 0s 59ms/step\n",
            "1/1 [==============================] - 0s 27ms/step\n",
            "9/9 [==============================] - 1s 56ms/step\n",
            "1/1 [==============================] - 0s 29ms/step\n",
            "8/8 [==============================] - 0s 58ms/step\n",
            "1/1 [==============================] - 0s 27ms/step\n",
            "5/5 [==============================] - 0s 62ms/step\n",
            "1/1 [==============================] - 0s 26ms/step\n",
            "6/6 [==============================] - 0s 61ms/step\n",
            "1/1 [==============================] - 0s 30ms/step\n",
            "6/6 [==============================] - 0s 55ms/step\n",
            "1/1 [==============================] - 0s 27ms/step\n",
            "6/6 [==============================] - 0s 63ms/step\n",
            "1/1 [==============================] - 0s 29ms/step\n",
            "6/6 [==============================] - 0s 57ms/step\n",
            "1/1 [==============================] - 0s 28ms/step\n",
            "5/5 [==============================] - 0s 61ms/step\n",
            "1/1 [==============================] - 0s 29ms/step\n",
            "8/8 [==============================] - 0s 61ms/step\n",
            "1/1 [==============================] - 0s 28ms/step\n",
            "8/8 [==============================] - 1s 63ms/step\n",
            "1/1 [==============================] - 0s 30ms/step\n",
            "6/6 [==============================] - 0s 59ms/step\n",
            "1/1 [==============================] - 0s 29ms/step\n",
            "8/8 [==============================] - 0s 60ms/step\n",
            "1/1 [==============================] - 0s 28ms/step\n",
            "6/6 [==============================] - 0s 59ms/step\n",
            "1/1 [==============================] - 0s 27ms/step\n",
            "6/6 [==============================] - 0s 58ms/step\n",
            "1/1 [==============================] - 0s 31ms/step\n",
            "6/6 [==============================] - 0s 56ms/step\n",
            "1/1 [==============================] - 0s 31ms/step\n",
            "7/7 [==============================] - 0s 62ms/step\n",
            "1/1 [==============================] - 0s 28ms/step\n",
            "9/9 [==============================] - 1s 59ms/step\n",
            "1/1 [==============================] - 0s 27ms/step\n",
            "8/8 [==============================] - 0s 58ms/step\n",
            "1/1 [==============================] - 0s 31ms/step\n",
            "18/18 [==============================] - 1s 59ms/step\n",
            "1/1 [==============================] - 0s 27ms/step\n",
            "8/8 [==============================] - 0s 61ms/step\n",
            "1/1 [==============================] - 0s 27ms/step\n",
            "7/7 [==============================] - 0s 58ms/step\n",
            "1/1 [==============================] - 0s 28ms/step\n",
            "6/6 [==============================] - 0s 63ms/step\n",
            "1/1 [==============================] - 0s 28ms/step\n",
            "8/8 [==============================] - 0s 58ms/step\n",
            "1/1 [==============================] - 0s 28ms/step\n",
            "5/5 [==============================] - 0s 62ms/step\n",
            "1/1 [==============================] - 0s 27ms/step\n",
            "8/8 [==============================] - 0s 60ms/step\n",
            "1/1 [==============================] - 0s 28ms/step\n",
            "7/7 [==============================] - 0s 61ms/step\n",
            "1/1 [==============================] - 0s 30ms/step\n",
            "6/6 [==============================] - 0s 57ms/step\n",
            "1/1 [==============================] - 0s 29ms/step\n",
            "6/6 [==============================] - 0s 57ms/step\n",
            "1/1 [==============================] - 0s 28ms/step\n",
            "8/8 [==============================] - 0s 56ms/step\n",
            "1/1 [==============================] - 0s 28ms/step\n",
            "5/5 [==============================] - 0s 57ms/step\n",
            "1/1 [==============================] - 0s 36ms/step\n",
            "6/6 [==============================] - 0s 63ms/step\n",
            "1/1 [==============================] - 0s 27ms/step\n",
            "8/8 [==============================] - 0s 58ms/step\n",
            "1/1 [==============================] - 0s 26ms/step\n",
            "5/5 [==============================] - 0s 62ms/step\n",
            "1/1 [==============================] - 0s 29ms/step\n",
            "8/8 [==============================] - 0s 58ms/step\n",
            "1/1 [==============================] - 0s 30ms/step\n",
            "6/6 [==============================] - 0s 56ms/step\n",
            "1/1 [==============================] - 0s 28ms/step\n",
            "6/6 [==============================] - 0s 61ms/step\n",
            "1/1 [==============================] - 0s 30ms/step\n",
            "8/8 [==============================] - 0s 61ms/step\n",
            "1/1 [==============================] - 0s 34ms/step\n",
            "8/8 [==============================] - 1s 62ms/step\n",
            "--- 81.87722301483154 seconds ---\n",
            "\n",
            "--- 1.6375536680221559 seconds ---\n",
            "\n",
            "9\n"
          ]
        }
      ]
    },
    {
      "cell_type": "code",
      "source": [
        "#easy_ocr\n",
        "start_time = time.time()\n",
        "easy_ph=[]\n",
        "reader = Reader(['en'])\n",
        "for image in images:\n",
        "  easy_result=easyocr(reader,image)\n",
        "  easy_ph.append(get_ph_easy(easy_result))\n",
        "print(\"--- %s seconds ---\\n\" % (time.time() - start_time))\n",
        "print(\"--- %s seconds ---\\n\" % ((time.time() - start_time)/50))\n",
        "\n",
        "print(easy_ph.count(None))"
      ],
      "metadata": {
        "colab": {
          "base_uri": "https://localhost:8080/"
        },
        "id": "aE7YBGjEF4MN",
        "outputId": "d2356458-26e8-4ed3-b495-ae9c9b4d5562"
      },
      "execution_count": 40,
      "outputs": [
        {
          "output_type": "stream",
          "name": "stdout",
          "text": [
            "--- 114.80440616607666 seconds ---\n",
            "\n",
            "--- 2.296092109680176 seconds ---\n",
            "\n",
            "15\n"
          ]
        }
      ]
    },
    {
      "cell_type": "code",
      "source": [
        "#pytesseract\n",
        "start_time = time.time()\n",
        "tess_ph=[]\n",
        "for image in images:\n",
        "  tess_result=pytesseact(image)\n",
        "  tess_ph.append(get_ph_tess(tess_result))\n",
        "print(\"--- %s seconds ---\\n\" % (time.time() - start_time))\n",
        "print(\"--- %s seconds ---\\n\" % ((time.time() - start_time)/50))\n",
        "\n",
        "print(tess_ph.count(None))"
      ],
      "metadata": {
        "colab": {
          "base_uri": "https://localhost:8080/"
        },
        "id": "FOn7-TCbLnxN",
        "outputId": "64b91f4b-b427-43a0-9993-9fe3c6cedead"
      },
      "execution_count": 41,
      "outputs": [
        {
          "output_type": "stream",
          "name": "stdout",
          "text": [
            "--- 206.0834662914276 seconds ---\n",
            "\n",
            "--- 4.121673965454102 seconds ---\n",
            "\n",
            "10\n"
          ]
        }
      ]
    },
    {
      "cell_type": "code",
      "source": [],
      "metadata": {
        "id": "p-h0lUNgKrYz"
      },
      "execution_count": null,
      "outputs": []
    },
    {
      "cell_type": "code",
      "source": [],
      "metadata": {
        "colab": {
          "base_uri": "https://localhost:8080/",
          "height": 36
        },
        "id": "Dm0NHxizPxW-",
        "outputId": "362f183e-672c-49f3-c339-49fb8c6d3652"
      },
      "execution_count": 38,
      "outputs": [
        {
          "output_type": "execute_result",
          "data": {
            "text/plain": [
              "'/content/youtube_cc_videos/sMQgVcEAqjg.png'"
            ],
            "application/vnd.google.colaboratory.intrinsic+json": {
              "type": "string"
            }
          },
          "metadata": {},
          "execution_count": 38
        }
      ]
    },
    {
      "cell_type": "code",
      "source": [],
      "metadata": {
        "id": "qzK_tuXEF5e2"
      },
      "execution_count": 59,
      "outputs": []
    },
    {
      "cell_type": "code",
      "source": [
        "#"
      ],
      "metadata": {
        "colab": {
          "base_uri": "https://localhost:8080/"
        },
        "id": "u2fX5v9BKG5m",
        "outputId": "b9d8decb-17dd-4e72-c3d4-587ebdacdd58"
      },
      "execution_count": 60,
      "outputs": [
        {
          "output_type": "execute_result",
          "data": {
            "text/plain": [
              "dict_keys(['level', 'page_num', 'block_num', 'par_num', 'line_num', 'word_num', 'left', 'top', 'width', 'height', 'conf', 'text'])"
            ]
          },
          "metadata": {},
          "execution_count": 60
        }
      ]
    },
    {
      "cell_type": "code",
      "source": [
        "#"
      ],
      "metadata": {
        "id": "gnUZV229L_3H"
      },
      "execution_count": null,
      "outputs": []
    },
    {
      "cell_type": "code",
      "source": [],
      "metadata": {
        "id": "H7eQJDo-MhSX"
      },
      "execution_count": 62,
      "outputs": []
    },
    {
      "cell_type": "code",
      "source": [],
      "metadata": {
        "colab": {
          "base_uri": "https://localhost:8080/"
        },
        "id": "RvH7hEieOQuH",
        "outputId": "e42bfc61-238d-4a40-8154-45907643e9b0"
      },
      "execution_count": 63,
      "outputs": [
        {
          "output_type": "stream",
          "name": "stdout",
          "text": [
            "8617721163\n"
          ]
        }
      ]
    },
    {
      "cell_type": "code",
      "source": [],
      "metadata": {
        "id": "O8y7XN6IO3Ew"
      },
      "execution_count": null,
      "outputs": []
    }
  ]
}